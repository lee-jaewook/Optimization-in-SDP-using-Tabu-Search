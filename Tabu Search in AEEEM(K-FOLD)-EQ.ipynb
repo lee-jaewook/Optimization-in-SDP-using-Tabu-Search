{
 "cells": [
  {
   "cell_type": "markdown",
   "metadata": {},
   "source": [
    "# 1. Tabu Search\n",
    "---"
   ]
  },
  {
   "cell_type": "code",
   "execution_count": 18,
   "metadata": {},
   "outputs": [
    {
     "data": {
      "text/plain": [
       "{'divide': 'ignore', 'over': 'ignore', 'under': 'ignore', 'invalid': 'ignore'}"
      ]
     },
     "execution_count": 18,
     "metadata": {},
     "output_type": "execute_result"
    }
   ],
   "source": [
    "import numpy as np\n",
    "import pandas \n",
    "from sklearn.tree import DecisionTreeClassifier\n",
    "from sklearn.metrics import accuracy_score, roc_auc_score, matthews_corrcoef, confusion_matrix, classification_report, f1_score\n",
    "from imblearn.over_sampling import SMOTE\n",
    "from sklearn.model_selection import train_test_split\n",
    "from sklearn.preprocessing import StandardScaler\n",
    "from sklearn.preprocessing import MinMaxScaler\n",
    "from sklearn.model_selection import KFold\n",
    "from bisect import bisect_left\n",
    "from tqdm import notebook\n",
    "import math\n",
    "import random \n",
    "import matplotlib.pyplot as plt\n",
    "np.seterr(all=\"ignore\")"
   ]
  },
  {
   "cell_type": "code",
   "execution_count": 19,
   "metadata": {},
   "outputs": [],
   "source": [
    "def initilialize_poplulation(numberOfPopulation,objectData): # OK\n",
    "    criterion = np.empty([numberOfPopulation, 1], dtype=np.uint8)\n",
    "    splitter = np.empty([numberOfPopulation, 1], dtype=np.uint8)\n",
    "    maxDepth = np.empty([numberOfPopulation, 1], dtype=np.uint8)\n",
    "    minSamplesSplit = np.empty([numberOfPopulation, 1], dtype=np.uint8)\n",
    "    minSamplesLeaf = np.empty([numberOfPopulation, 1], dtype=np.uint8)\n",
    "    minWeightFractionLeaf = np.empty([numberOfPopulation, 1])\n",
    "    ccpAlpha = np.empty([numberOfPopulation, 1])\n",
    "    normalization = np.empty([numberOfPopulation, 1], dtype=np.uint8)\n",
    "    classWeight = np.empty([numberOfPopulation, 1])\n",
    "    featureSelection = np.empty([numberOfPopulation, objectData.shape[1]], dtype=np.uint8)\n",
    "    \n",
    "    print(\"<Initilialize Poplulation>\",end='')\n",
    "    for i in notebook.tqdm(range(numberOfPopulation)):\n",
    "        # print(i)\n",
    "        criterion[i] = int(random.randrange(0, 2, step=1))\n",
    "        splitter[i] = int(random.randrange(0, 2, step=1))\n",
    "        maxDepth[i] = int(random.randrange(2, 41, step=1))\n",
    "        minSamplesSplit[i] = int(random.randrange(2, 101, step=1))\n",
    "        minSamplesLeaf[i] = int(random.randrange(1, 201, step=1))\n",
    "        minWeightFractionLeaf[i] = round(random.uniform(0.001, 0.1), 3)\n",
    "        ccpAlpha[i] = round(random.uniform(0.00001, 0.004), 5)\n",
    "        normalization[i] = int(random.randrange(0, 6, step=1))\n",
    "        classWeight[i] = round(random.uniform(0.01, 1), 2)\n",
    "        for j in range(objectData.shape[1]):\n",
    "            featureSelection[i][j] = int(random.randrange(0, 2, step=1))\n",
    "#             print(\"<feature weight %s = %s>\"%(j,feature_weight[i][j]))\n",
    "#         print(\"<최초 %s번째 유전자 생성> Criterion: %s | Max Depth: %s | min samples split: %s | max leaf nodes: %s | randomstate: %s | true-false weight: %s/%s\"%(i+1,criterion[i],maxDepth[i],minSamplesSplit[i],maxLeafNodes[i],randomState[i],trueWeight[i],falseWeight[i]))\n",
    "    population = np.concatenate(\n",
    "        (criterion, splitter,maxDepth, minSamplesSplit, minSamplesLeaf, minWeightFractionLeaf, ccpAlpha, normalization,classWeight,featureSelection), axis=1)\n",
    "#     print(\"Population\")\n",
    "#     print(pandas.DataFrame(population))\n",
    "    return population"
   ]
  },
  {
   "cell_type": "code",
   "execution_count": 20,
   "metadata": {},
   "outputs": [],
   "source": [
    "def score(y_true,y_pred): #OK\n",
    "    arr = confusion_matrix(y_true,y_pred)\n",
    "    pd = arr[1][1]/(arr[1][1]+arr[1][0])\n",
    "    pf = arr[0][1]/(arr[0][0]+arr[0][1])\n",
    "    fallout = 1-pf\n",
    "    g_measure = 2*((pd*fallout)/(pd+fallout))\n",
    "    fi = (arr[0][1]+arr[1][1])/(arr[0][0]+arr[0][1]+arr[1][1]+arr[1][0])\n",
    "    FIR = (pd-fi)/pd\n",
    "    return pd,pf,g_measure,FIR"
   ]
  },
  {
   "cell_type": "code",
   "execution_count": 21,
   "metadata": {},
   "outputs": [],
   "source": [
    "def fitness_Gmeasure(y_true, y_pred): #OK\n",
    "        pd,pf,g_measure,FIR = score(y_true, y_pred)\n",
    "        fitness = round(g_measure, 4)\n",
    "        return fitness"
   ]
  },
  {
   "cell_type": "code",
   "execution_count": 22,
   "metadata": {},
   "outputs": [],
   "source": [
    "def criterion_convert(param): #OK\n",
    "        if param==0:\n",
    "            cr = 'gini'\n",
    "        else:\n",
    "            cr = 'entropy'\n",
    "        return cr\n",
    "    \n",
    "def splitter_convert(param): #OK\n",
    "        if param==0:\n",
    "            sc = 'best'\n",
    "        else:\n",
    "            sc = 'random'\n",
    "        return sc"
   ]
  },
  {
   "cell_type": "code",
   "execution_count": 23,
   "metadata": {},
   "outputs": [],
   "source": [
    "def Norm(X_train,X_test,norm):\n",
    "    if norm==0: # None\n",
    "        return X_train,X_test\n",
    "    elif norm==1:#MinMax (all)\n",
    "        scaler=MinMaxScaler()\n",
    "        scaler.fit(np.concatenate((X_train, X_test), axis=0))\n",
    "        X_train_norm=scaler.transform(X_train)\n",
    "        X_test_norm=scaler.transform(X_test)\n",
    "        return X_train_norm, X_test_norm\n",
    "    elif norm==2:#z-score (all)\n",
    "        scaler=StandardScaler()\n",
    "        scaler.fit(np.concatenate((X_train, X_test), axis=0))\n",
    "        X_train_norm=scaler.transform(X_train)\n",
    "        X_test_norm=scaler.transform(X_test)\n",
    "        return X_train_norm, X_test_norm\n",
    "    elif norm==3:#z-score (source distribution)\n",
    "        scaler=StandardScaler()\n",
    "        scaler.fit(X_train)\n",
    "        X_train_norm=scaler.transform(X_train)\n",
    "        X_test_norm=scaler.transform(X_test)\n",
    "        return X_train_norm, X_test_norm\n",
    "    elif norm==4: #z-score (target distribution)\n",
    "        scaler=StandardScaler()\n",
    "        scaler.fit(X_test)\n",
    "        X_train_norm=scaler.transform(X_train)\n",
    "        X_test_norm=scaler.transform(X_test)\n",
    "        return X_train_norm, X_test_norm\n",
    "    elif norm==5: #logarithmic filtering\n",
    "        X_train_norm=np.log10(np.where(X_train<0.001,0.001,X_train))\n",
    "        X_test_norm=np.log10(np.where(X_test<0.001,0.001,X_test))\n",
    "        return X_train_norm, X_test_norm"
   ]
  },
  {
   "cell_type": "code",
   "execution_count": 24,
   "metadata": {},
   "outputs": [],
   "source": [
    "def feature_selection(X_train,X_test,vector):\n",
    "    index=[]\n",
    "    col_index=0\n",
    "    assert len(vector)!=62\n",
    "    for i in vector:\n",
    "        if i==1:\n",
    "            index.append(col_index)\n",
    "        col_index+=1\n",
    "    if not index:\n",
    "        index.append(0)\n",
    "    X_train=X_train[:,index]\n",
    "    X_test=X_test[:,index]\n",
    "    return X_train, X_test"
   ]
  },
  {
   "cell_type": "code",
   "execution_count": 25,
   "metadata": {},
   "outputs": [],
   "source": [
    "def train_population(population, X_train,y_train):\n",
    "    g_measure = []\n",
    "    clf_hist=[]\n",
    "    for i in range(population.shape[0]):\n",
    "        param = { 'Criterion': population[i][0],\n",
    "                  'Splitter': population[i][1],\n",
    "                  'Max_Depth':population[i][2],\n",
    "                  'Min_Samples_Split':population[i][3],\n",
    "                  'Min_Samples_Leaf':population[i][4],\n",
    "                  'Min_Weight_Fraction_Leaf':population[i][5],\n",
    "                  'CCP_Alpha':population[i][6],\n",
    "                  'Normalization':population[i][7],\n",
    "                  'Class_Weight':population[i][8],\n",
    "                  'Feature_selection':population[i][9:]}\n",
    "\n",
    "        kfold = StratifiedKFold(n_splits=9,shuffle=False)\n",
    "        g_score=[]\n",
    "        for tr_index, vali_index in kfold.split(X_train,y_train):\n",
    "            X_tr, X_vali = X_train[tr_index], X_train[vali_index]\n",
    "            y_tr, y_vali = y_train[tr_index], y_train[vali_index]\n",
    "            balance = {True:1,False:param['Class_Weight'] }\n",
    "            clf = DecisionTreeClassifier(criterion=criterion_convert(param['Criterion']),\n",
    "                                         splitter=splitter_convert(param['Splitter']),\n",
    "                                         max_depth=int(param['Max_Depth']),\n",
    "                                         min_samples_split=int(param['Min_Samples_Split']),\n",
    "                                         min_samples_leaf=int(param['Min_Samples_Leaf']),\n",
    "                                         min_weight_fraction_leaf=param['Min_Weight_Fraction_Leaf'],\n",
    "                                         ccp_alpha=param['CCP_Alpha'],\n",
    "                                         class_weight=balance)\n",
    "\n",
    "            #Feature Selection                                                         \n",
    "            X_tr,X_vali=feature_selection(X_tr,X_vali,param['Feature_selection'].astype(np.int64))\n",
    "\n",
    "            #Normalization\n",
    "            X_tr,X_vali=Norm(X_tr,X_vali,int(param['Normalization']))\n",
    "\n",
    "            clf.fit(X_tr, y_tr)\n",
    "            preds = clf.predict(X_vali)\n",
    "            g_score.append(fitness_Gmeasure(y_vali, preds))\n",
    "        g_measure.append(sum(g_score)/len(g_score))\n",
    "        clf_hist.append(clf)\n",
    "    return g_measure,clf_hist"
   ]
  },
  {
   "cell_type": "code",
   "execution_count": 26,
   "metadata": {},
   "outputs": [],
   "source": [
    "def new_parents_selection(population, fitness, numParents): #OK\n",
    "    selectedParents = np.empty((numParents, population.shape[1]))  # create an array to store fittest parents\n",
    "\n",
    "    # find the top best performing parents\n",
    "    for parentId in range(numParents):\n",
    "        bestFitnessId = np.where(fitness == np.max(fitness))\n",
    "        bestFitnessId = bestFitnessId[0][0]\n",
    "        selectedParents[parentId, :] = population[bestFitnessId, :]\n",
    "        fitness[bestFitnessId] = -1  # set this value to negative, in case of F1-score, so this parent is not selected again\n",
    "    return selectedParents"
   ]
  },
  {
   "cell_type": "code",
   "execution_count": 27,
   "metadata": {},
   "outputs": [],
   "source": [
    "def move(parents, childrenSize):\n",
    "    minMaxValue = np.zeros((childrenSize[1], 3))\n",
    "    minMaxValue[0, :] = [0, 1, 1]  \n",
    "    minMaxValue[1, :] = [0, 1, 1]  \n",
    "    minMaxValue[2, :] = [2, 40, 1]  \n",
    "    minMaxValue[3, :] = [2, 100, 1]  \n",
    "    minMaxValue[4, :] = [1, 200, 1]  \n",
    "    minMaxValue[5, :] = [0.001, 0.1, 0.001]  \n",
    "    minMaxValue[6, :] = [0.00001, 0.004, 0.00001]  \n",
    "    minMaxValue[7, :] = [0, 5, 1]  \n",
    "    minMaxValue[8, :] = [0.01, 1, 0.01] \n",
    "    minMaxValue[9:, :] = [0, 1, 1]  \n",
    "    \n",
    "    children = np.empty(childrenSize)\n",
    "\n",
    "    for i in range(childrenSize[0]):\n",
    "        # find parent 1 index\n",
    "        parent1_index = int(i % parents.shape[0])\n",
    "        for j in range(childrenSize[1]):\n",
    "            prob=random.uniform(0, 1)\n",
    "            if prob<0.5:\n",
    "                children[i, j]=parents[parent1_index,j]\n",
    "                continue\n",
    "            operand = random.randrange(0, 4)\n",
    "            num = random.randrange(-5, 5)\n",
    "            if operand==0:\n",
    "                children[i, j]=parents[parent1_index,j]+(num*minMaxValue[j, 2])\n",
    "            elif operand==1:\n",
    "                children[i, j]=parents[parent1_index,j]*(num*minMaxValue[j, 2])\n",
    "            elif operand==2:\n",
    "                children[i, j]=parents[parent1_index,j]-(num*minMaxValue[j, 2])\n",
    "            elif operand==3:\n",
    "                children[i, j]=parents[parent1_index,j]/(num*minMaxValue[j, 2])\n",
    "            if (children[i, j] > minMaxValue[j, 1]):\n",
    "                children[i, j] = minMaxValue[j, 1]\n",
    "            if (children[i, j] < minMaxValue[j, 0])  or (math.isnan(children[i, j])) or (math.isinf(children[i, j])):\n",
    "                children[i, j] = minMaxValue[j, 0]\n",
    "    return children"
   ]
  },
  {
   "cell_type": "code",
   "execution_count": 28,
   "metadata": {},
   "outputs": [],
   "source": [
    "def generation(X_train, y_train, mutation_rate):\n",
    "    #initailization    \n",
    "    mutationRate = mutation_rate\n",
    "    numberOfHyperParameters = 9\n",
    "    numberOfParameters = numberOfHyperParameters+X_train.shape[1]\n",
    "    numberOfPopulation = 100\n",
    "    numberOfParents = 20\n",
    "    numberOfGenerations = 1000\n",
    "    \n",
    "\n",
    "    # define the population size\n",
    "    populationSize = (numberOfPopulation, numberOfParameters)\n",
    "    # initialize the population with randomly generated parameters\n",
    "    population = initilialize_poplulation(numberOfPopulation,X_train)\n",
    "#     print(population.shape)\n",
    "    # define an array to store the fitness  hitory\n",
    "    fitnessHistory = np.empty([numberOfGenerations + 1, numberOfPopulation])\n",
    "    # define an array to store the value of each parameter for each parent and generation\n",
    "    populationHistory = np.empty([(numberOfGenerations + 1) * numberOfPopulation, numberOfParameters])\n",
    "    # insert the value of initial parameters in history\n",
    "\n",
    "    populationHistory[0:numberOfPopulation, :] = population\n",
    "    iteration_g=[]\n",
    "    \n",
    "    print(\"<Evolution>\")\n",
    "    for generation in notebook.tqdm(range(numberOfGenerations)):\n",
    "        #print(\" (%s / %s) 세대 개체 생성\" % (generation+1,numberOfGenerations))\n",
    "        fitnessValue,clf = train_population(population=population,\n",
    "                                            X_train=X_train,\n",
    "                                            y_train=y_train)\n",
    "\n",
    "        fitnessHistory[generation, :] = fitnessValue\n",
    "        # print('Max G-measure in the this iteration = {}'.format(np.max(fitnessHistory[generation, :])))\n",
    "        iteration_g.append((np.max(fitnessHistory[generation, :])))\n",
    "\n",
    "        parents = new_parents_selection(population=population, fitness=fitnessValue, numParents=numberOfParents)\n",
    "\n",
    "        children = move(parents=parents, childrenSize=((populationSize[0] - parents.shape[0]), numberOfParameters))\n",
    "        \n",
    "        population[0:parents.shape[0], :] = parents #fittest parents\n",
    "        population[parents.shape[0]:, :] = children #children\n",
    "\n",
    "        populationHistory[(generation + 1) * numberOfPopulation: (generation + 1) * numberOfPopulation + numberOfPopulation, :] = population\n",
    "\n",
    "    # Best solution from the final iteration\n",
    "    x=range(1,numberOfGenerations+1)\n",
    "    plt.plot(x,iteration_g)\n",
    "    plt.xlabel('Iteration')\n",
    "    plt.ylabel('G-measure')\n",
    "    \n",
    "    # plt.set_title('Train Set Distribu')\n",
    "    plt.ylim(0.5, 0.95)\n",
    "    plt.show()\n",
    "\n",
    "    fitness,clf = train_population(population=population, X_train=X_train, y_train=y_train)\n",
    "    fitnessHistory[generation + 1, :] = fitness\n",
    "    # index of the best solution\n",
    "    bestFitnessIndex = np.where(fitness == np.max(fitness))[0][0]\n",
    "    best_clf=clf[bestFitnessIndex]\n",
    "    best_gene = np.empty([numberOfParameters,1])\n",
    "    for i in range(numberOfParameters):\n",
    "        best_gene[i]=population[bestFitnessIndex][i]\n",
    "    \n",
    "#     print(\"----------------------------------------\")\n",
    "#     print(\"Best parameters are:\")\n",
    "#     if population[bestFitnessIndex][0]==0:\n",
    "#         c_r='gini'\n",
    "#     else:\n",
    "#         c_r='entropy'\n",
    "#     print('criterion', c_r)\n",
    "#     print('max_depth', population[bestFitnessIndex][1])\n",
    "#     print('min_samples_split', int(population[bestFitnessIndex][2]))\n",
    "#     print('max_leaf_nodes', population[bestFitnessIndex][3])\n",
    "#     print('random_state', population[bestFitnessIndex][4])\n",
    "#     print('class_weight', population[bestFitnessIndex][5], population[bestFitnessIndex][6])\n",
    "#     print(\"----------------------------------------\")\n",
    "    return fitness[bestFitnessIndex],best_gene,best_clf"
   ]
  },
  {
   "cell_type": "code",
   "execution_count": 29,
   "metadata": {},
   "outputs": [],
   "source": [
    "def weighted_GA_DT(X_train,X_test,y_train,y_test):\n",
    "    fitness, best_gene,best_clf = generation(X_train=X_train,\n",
    "                                             y_train=y_train,\n",
    "                                             mutation_rate=0.01)\n",
    "    X_train,X_test=feature_selection(X_train,\n",
    "                                     X_test,\n",
    "                                     best_gene[9:])\n",
    "    X_train,X_test=Norm(X_train,X_test,best_gene[7])\n",
    "    best_clf.fit(X_train,y_train)\n",
    "    preds = best_clf.predict(X_test)    \n",
    "    return preds"
   ]
  },
  {
   "cell_type": "markdown",
   "metadata": {},
   "source": [
    "# 2.Model Evaluation\n",
    "---"
   ]
  },
  {
   "cell_type": "code",
   "execution_count": 30,
   "metadata": {},
   "outputs": [],
   "source": [
    "df = pandas.read_csv('../../Dataset/AEEEM/EQ.csv')"
   ]
  },
  {
   "cell_type": "code",
   "execution_count": 31,
   "metadata": {},
   "outputs": [],
   "source": [
    "X = np.array(df.loc[:,'ck_oo_numberOfPrivateMethods':'LDHH_numberOfMethods'])\n",
    "y = np.array(df['class'])"
   ]
  },
  {
   "cell_type": "code",
   "execution_count": 32,
   "metadata": {
    "scrolled": true
   },
   "outputs": [],
   "source": [
    "from sklearn.model_selection import StratifiedKFold\n",
    "kf = StratifiedKFold(n_splits=10,shuffle=False)"
   ]
  },
  {
   "cell_type": "code",
   "execution_count": 33,
   "metadata": {},
   "outputs": [],
   "source": [
    "pd_score=[]\n",
    "pf_score=[]\n",
    "g_measure_score = []\n",
    "fir_score=[]\n",
    "best_fitness=[]\n",
    "accuracy=[]\n",
    "best_gene= np.empty([7, 1])\n",
    "conf_matrix_list_of_arrays = []\n",
    "class_report_list_of_arrays = []\n",
    "roc_auc_score_list_of_arrays = []\n",
    "mcc_list_of_arrays = []\n",
    "cm = None\n",
    "y_predicted_overall = None\n",
    "y_test_overall = None  \n",
    "i=0"
   ]
  },
  {
   "cell_type": "code",
   "execution_count": 34,
   "metadata": {},
   "outputs": [
    {
     "data": {
      "application/vnd.jupyter.widget-view+json": {
       "model_id": "a4b185c516eb4eb180b0ad3ce44871c8",
       "version_major": 2,
       "version_minor": 0
      },
      "text/plain": [
       "HBox(children=(FloatProgress(value=1.0, bar_style='info', layout=Layout(width='20px'), max=1.0), HTML(value=''…"
      ]
     },
     "metadata": {},
     "output_type": "display_data"
    },
    {
     "name": "stdout",
     "output_type": "stream",
     "text": [
      "<Initilialize Poplulation>"
     ]
    },
    {
     "data": {
      "application/vnd.jupyter.widget-view+json": {
       "model_id": "5d9a60f7b59e46d79af5bef23f71d985",
       "version_major": 2,
       "version_minor": 0
      },
      "text/plain": [
       "HBox(children=(FloatProgress(value=0.0), HTML(value='')))"
      ]
     },
     "metadata": {},
     "output_type": "display_data"
    },
    {
     "name": "stdout",
     "output_type": "stream",
     "text": [
      "\n",
      "<Evolution>\n"
     ]
    },
    {
     "data": {
      "application/vnd.jupyter.widget-view+json": {
       "model_id": "8ed872cdf82e4b378097e59d5101144f",
       "version_major": 2,
       "version_minor": 0
      },
      "text/plain": [
       "HBox(children=(FloatProgress(value=0.0, max=1000.0), HTML(value='')))"
      ]
     },
     "metadata": {},
     "output_type": "display_data"
    },
    {
     "name": "stdout",
     "output_type": "stream",
     "text": [
      "\n"
     ]
    },
    {
     "data": {
      "image/png": "[encoded data removed]",
      "text/plain": [
       "<Figure size 432x288 with 1 Axes>"
      ]
     },
     "metadata": {
      "needs_background": "light"
     },
     "output_type": "display_data"
    },
    {
     "name": "stdout",
     "output_type": "stream",
     "text": [
      "--------------------------------------0 : Result--------------------------------------\n",
      "PD: 0.9230769230769231\n",
      "PF: 0.25\n",
      "G measure: 0.8275862068965517\n",
      "FIR: 0.441919191919192\n",
      "              precision    recall  f1-score   support\n",
      "\n",
      "       False      0.938     0.750     0.833        20\n",
      "        True      0.706     0.923     0.800        13\n",
      "\n",
      "    accuracy                          0.818        33\n",
      "   macro avg      0.822     0.837     0.817        33\n",
      "weighted avg      0.846     0.818     0.820        33\n",
      "\n",
      "[[15  5]\n",
      " [ 1 12]]\n",
      "<Initilialize Poplulation>"
     ]
    },
    {
     "data": {
      "application/vnd.jupyter.widget-view+json": {
       "model_id": "021740e9ffe8426cae787ada00997859",
       "version_major": 2,
       "version_minor": 0
      },
      "text/plain": [
       "HBox(children=(FloatProgress(value=0.0), HTML(value='')))"
      ]
     },
     "metadata": {},
     "output_type": "display_data"
    },
    {
     "name": "stdout",
     "output_type": "stream",
     "text": [
      "\n",
      "<Evolution>\n"
     ]
    },
    {
     "data": {
      "application/vnd.jupyter.widget-view+json": {
       "model_id": "fa4f6ba18eba4900a107eb96544c92ac",
       "version_major": 2,
       "version_minor": 0
      },
      "text/plain": [
       "HBox(children=(FloatProgress(value=0.0, max=1000.0), HTML(value='')))"
      ]
     },
     "metadata": {},
     "output_type": "display_data"
    },
    {
     "name": "stdout",
     "output_type": "stream",
     "text": [
      "\n"
     ]
    },
    {
     "data": {
      "image/png": "[encoded data removed]",
      "text/plain": [
       "<Figure size 432x288 with 1 Axes>"
      ]
     },
     "metadata": {
      "needs_background": "light"
     },
     "output_type": "display_data"
    },
    {
     "name": "stdout",
     "output_type": "stream",
     "text": [
      "--------------------------------------1 : Result--------------------------------------\n",
      "PD: 0.6923076923076923\n",
      "PF: 0.4\n",
      "G measure: 0.6428571428571429\n",
      "FIR: 0.2558922558922559\n",
      "              precision    recall  f1-score   support\n",
      "\n",
      "       False      0.750     0.600     0.667        20\n",
      "        True      0.529     0.692     0.600        13\n",
      "\n",
      "    accuracy                          0.636        33\n",
      "   macro avg      0.640     0.646     0.633        33\n",
      "weighted avg      0.663     0.636     0.640        33\n",
      "\n",
      "[[12  8]\n",
      " [ 4  9]]\n",
      "<Initilialize Poplulation>"
     ]
    },
    {
     "data": {
      "application/vnd.jupyter.widget-view+json": {
       "model_id": "07c1abec8295458480b0d4021256a090",
       "version_major": 2,
       "version_minor": 0
      },
      "text/plain": [
       "HBox(children=(FloatProgress(value=0.0), HTML(value='')))"
      ]
     },
     "metadata": {},
     "output_type": "display_data"
    },
    {
     "name": "stdout",
     "output_type": "stream",
     "text": [
      "\n",
      "<Evolution>\n"
     ]
    },
    {
     "data": {
      "application/vnd.jupyter.widget-view+json": {
       "model_id": "251634f75b98468eb140936a0e5c4fce",
       "version_major": 2,
       "version_minor": 0
      },
      "text/plain": [
       "HBox(children=(FloatProgress(value=0.0, max=1000.0), HTML(value='')))"
      ]
     },
     "metadata": {},
     "output_type": "display_data"
    },
    {
     "name": "stdout",
     "output_type": "stream",
     "text": [
      "\n"
     ]
    },
    {
     "data": {
      "image/png": "[encoded data removed]",
      "text/plain": [
       "<Figure size 432x288 with 1 Axes>"
      ]
     },
     "metadata": {
      "needs_background": "light"
     },
     "output_type": "display_data"
    },
    {
     "name": "stdout",
     "output_type": "stream",
     "text": [
      "--------------------------------------2 : Result--------------------------------------\n",
      "PD: 0.7692307692307693\n",
      "PF: 0.2\n",
      "G measure: 0.7843137254901961\n",
      "FIR: 0.4484848484848485\n",
      "              precision    recall  f1-score   support\n",
      "\n",
      "       False      0.842     0.800     0.821        20\n",
      "        True      0.714     0.769     0.741        13\n",
      "\n",
      "    accuracy                          0.788        33\n",
      "   macro avg      0.778     0.785     0.781        33\n",
      "weighted avg      0.792     0.788     0.789        33\n",
      "\n",
      "[[16  4]\n",
      " [ 3 10]]\n",
      "<Initilialize Poplulation>"
     ]
    },
    {
     "data": {
      "application/vnd.jupyter.widget-view+json": {
       "model_id": "10743dba11054002b78ee71bda22ea9a",
       "version_major": 2,
       "version_minor": 0
      },
      "text/plain": [
       "HBox(children=(FloatProgress(value=0.0), HTML(value='')))"
      ]
     },
     "metadata": {},
     "output_type": "display_data"
    },
    {
     "name": "stdout",
     "output_type": "stream",
     "text": [
      "\n",
      "<Evolution>\n"
     ]
    },
    {
     "data": {
      "application/vnd.jupyter.widget-view+json": {
       "model_id": "91eeeedea6da4fe1a73da775b3cd43a4",
       "version_major": 2,
       "version_minor": 0
      },
      "text/plain": [
       "HBox(children=(FloatProgress(value=0.0, max=1000.0), HTML(value='')))"
      ]
     },
     "metadata": {},
     "output_type": "display_data"
    },
    {
     "name": "stdout",
     "output_type": "stream",
     "text": [
      "\n"
     ]
    },
    {
     "data": {
      "image/png": "[encoded data removed]",
      "text/plain": [
       "<Figure size 432x288 with 1 Axes>"
      ]
     },
     "metadata": {
      "needs_background": "light"
     },
     "output_type": "display_data"
    },
    {
     "name": "stdout",
     "output_type": "stream",
     "text": [
      "--------------------------------------3 : Result--------------------------------------\n",
      "PD: 0.8461538461538461\n",
      "PF: 0.4\n",
      "G measure: 0.7021276595744681\n",
      "FIR: 0.3195592286501377\n",
      "              precision    recall  f1-score   support\n",
      "\n",
      "       False      0.857     0.600     0.706        20\n",
      "        True      0.579     0.846     0.688        13\n",
      "\n",
      "    accuracy                          0.697        33\n",
      "   macro avg      0.718     0.723     0.697        33\n",
      "weighted avg      0.748     0.697     0.699        33\n",
      "\n",
      "[[12  8]\n",
      " [ 2 11]]\n",
      "<Initilialize Poplulation>"
     ]
    },
    {
     "data": {
      "application/vnd.jupyter.widget-view+json": {
       "model_id": "ed3f72896ec1432692722bfa37c64466",
       "version_major": 2,
       "version_minor": 0
      },
      "text/plain": [
       "HBox(children=(FloatProgress(value=0.0), HTML(value='')))"
      ]
     },
     "metadata": {},
     "output_type": "display_data"
    },
    {
     "name": "stdout",
     "output_type": "stream",
     "text": [
      "\n",
      "<Evolution>\n"
     ]
    },
    {
     "data": {
      "application/vnd.jupyter.widget-view+json": {
       "model_id": "05d1a186e29943978a3dcfbfa9df25a3",
       "version_major": 2,
       "version_minor": 0
      },
      "text/plain": [
       "HBox(children=(FloatProgress(value=0.0, max=1000.0), HTML(value='')))"
      ]
     },
     "metadata": {},
     "output_type": "display_data"
    },
    {
     "name": "stdout",
     "output_type": "stream",
     "text": [
      "\n"
     ]
    },
    {
     "data": {
      "image/png": "[encoded data removed]",
      "text/plain": [
       "<Figure size 432x288 with 1 Axes>"
      ]
     },
     "metadata": {
      "needs_background": "light"
     },
     "output_type": "display_data"
    },
    {
     "name": "stdout",
     "output_type": "stream",
     "text": [
      "--------------------------------------4 : Result--------------------------------------\n",
      "PD: 0.8461538461538461\n",
      "PF: 0.3157894736842105\n",
      "G measure: 0.7566137566137566\n",
      "FIR: 0.3721590909090909\n",
      "              precision    recall  f1-score   support\n",
      "\n",
      "       False      0.867     0.684     0.765        19\n",
      "        True      0.647     0.846     0.733        13\n",
      "\n",
      "    accuracy                          0.750        32\n",
      "   macro avg      0.757     0.765     0.749        32\n",
      "weighted avg      0.777     0.750     0.752        32\n",
      "\n",
      "[[13  6]\n",
      " [ 2 11]]\n",
      "<Initilialize Poplulation>"
     ]
    },
    {
     "data": {
      "application/vnd.jupyter.widget-view+json": {
       "model_id": "b0d06e8d4fc54b34bc9453eca09d903d",
       "version_major": 2,
       "version_minor": 0
      },
      "text/plain": [
       "HBox(children=(FloatProgress(value=0.0), HTML(value='')))"
      ]
     },
     "metadata": {},
     "output_type": "display_data"
    },
    {
     "name": "stdout",
     "output_type": "stream",
     "text": [
      "\n",
      "<Evolution>\n"
     ]
    },
    {
     "data": {
      "application/vnd.jupyter.widget-view+json": {
       "model_id": "0240aaa5f0fd412fbad0a3c2e5e44593",
       "version_major": 2,
       "version_minor": 0
      },
      "text/plain": [
       "HBox(children=(FloatProgress(value=0.0, max=1000.0), HTML(value='')))"
      ]
     },
     "metadata": {},
     "output_type": "display_data"
    },
    {
     "name": "stdout",
     "output_type": "stream",
     "text": [
      "\n"
     ]
    },
    {
     "data": {
      "image/png": "[encoded data removed]",
      "text/plain": [
       "<Figure size 432x288 with 1 Axes>"
      ]
     },
     "metadata": {
      "needs_background": "light"
     },
     "output_type": "display_data"
    },
    {
     "name": "stdout",
     "output_type": "stream",
     "text": [
      "--------------------------------------5 : Result--------------------------------------\n",
      "PD: 0.5384615384615384\n",
      "PF: 0.15789473684210525\n",
      "G measure: 0.656891495601173\n",
      "FIR: 0.4196428571428571\n",
      "              precision    recall  f1-score   support\n",
      "\n",
      "       False      0.727     0.842     0.780        19\n",
      "        True      0.700     0.538     0.609        13\n",
      "\n",
      "    accuracy                          0.719        32\n",
      "   macro avg      0.714     0.690     0.695        32\n",
      "weighted avg      0.716     0.719     0.711        32\n",
      "\n",
      "[[16  3]\n",
      " [ 6  7]]\n",
      "<Initilialize Poplulation>"
     ]
    },
    {
     "data": {
      "application/vnd.jupyter.widget-view+json": {
       "model_id": "42c97437dcc04c8790b1ce1410c2557b",
       "version_major": 2,
       "version_minor": 0
      },
      "text/plain": [
       "HBox(children=(FloatProgress(value=0.0), HTML(value='')))"
      ]
     },
     "metadata": {},
     "output_type": "display_data"
    },
    {
     "name": "stdout",
     "output_type": "stream",
     "text": [
      "\n",
      "<Evolution>\n"
     ]
    },
    {
     "data": {
      "application/vnd.jupyter.widget-view+json": {
       "model_id": "8b454db988cd4d0795545c0c7c0336ed",
       "version_major": 2,
       "version_minor": 0
      },
      "text/plain": [
       "HBox(children=(FloatProgress(value=0.0, max=1000.0), HTML(value='')))"
      ]
     },
     "metadata": {},
     "output_type": "display_data"
    },
    {
     "name": "stdout",
     "output_type": "stream",
     "text": [
      "\n"
     ]
    },
    {
     "data": {
      "image/png": "[encoded data removed]",
      "text/plain": [
       "<Figure size 432x288 with 1 Axes>"
      ]
     },
     "metadata": {
      "needs_background": "light"
     },
     "output_type": "display_data"
    },
    {
     "name": "stdout",
     "output_type": "stream",
     "text": [
      "--------------------------------------6 : Result--------------------------------------\n",
      "PD: 0.6923076923076923\n",
      "PF: 0.2631578947368421\n",
      "G measure: 0.7138810198300284\n",
      "FIR: 0.3680555555555555\n",
      "              precision    recall  f1-score   support\n",
      "\n",
      "       False      0.778     0.737     0.757        19\n",
      "        True      0.643     0.692     0.667        13\n",
      "\n",
      "    accuracy                          0.719        32\n",
      "   macro avg      0.710     0.715     0.712        32\n",
      "weighted avg      0.723     0.719     0.720        32\n",
      "\n",
      "[[14  5]\n",
      " [ 4  9]]\n",
      "<Initilialize Poplulation>"
     ]
    },
    {
     "data": {
      "application/vnd.jupyter.widget-view+json": {
       "model_id": "1a488e6e8d2b4a7c8a6503e2ef22e3a8",
       "version_major": 2,
       "version_minor": 0
      },
      "text/plain": [
       "HBox(children=(FloatProgress(value=0.0), HTML(value='')))"
      ]
     },
     "metadata": {},
     "output_type": "display_data"
    },
    {
     "name": "stdout",
     "output_type": "stream",
     "text": [
      "\n",
      "<Evolution>\n"
     ]
    },
    {
     "data": {
      "application/vnd.jupyter.widget-view+json": {
       "model_id": "99f0d39c67b44d1a8cfcf6bea8ab6e61",
       "version_major": 2,
       "version_minor": 0
      },
      "text/plain": [
       "HBox(children=(FloatProgress(value=0.0, max=1000.0), HTML(value='')))"
      ]
     },
     "metadata": {},
     "output_type": "display_data"
    },
    {
     "name": "stdout",
     "output_type": "stream",
     "text": [
      "\n"
     ]
    },
    {
     "data": {
      "image/png": "[encoded data removed]",
      "text/plain": [
       "<Figure size 432x288 with 1 Axes>"
      ]
     },
     "metadata": {
      "needs_background": "light"
     },
     "output_type": "display_data"
    },
    {
     "name": "stdout",
     "output_type": "stream",
     "text": [
      "--------------------------------------7 : Result--------------------------------------\n",
      "PD: 0.6923076923076923\n",
      "PF: 0.3157894736842105\n",
      "G measure: 0.688235294117647\n",
      "FIR: 0.32291666666666663\n",
      "              precision    recall  f1-score   support\n",
      "\n",
      "       False      0.765     0.684     0.722        19\n",
      "        True      0.600     0.692     0.643        13\n",
      "\n",
      "    accuracy                          0.688        32\n",
      "   macro avg      0.682     0.688     0.683        32\n",
      "weighted avg      0.698     0.688     0.690        32\n",
      "\n",
      "[[13  6]\n",
      " [ 4  9]]\n",
      "<Initilialize Poplulation>"
     ]
    },
    {
     "data": {
      "application/vnd.jupyter.widget-view+json": {
       "model_id": "6b1080c1b372493fbb4819e6e51891c5",
       "version_major": 2,
       "version_minor": 0
      },
      "text/plain": [
       "HBox(children=(FloatProgress(value=0.0), HTML(value='')))"
      ]
     },
     "metadata": {},
     "output_type": "display_data"
    },
    {
     "name": "stdout",
     "output_type": "stream",
     "text": [
      "\n",
      "<Evolution>\n"
     ]
    },
    {
     "data": {
      "application/vnd.jupyter.widget-view+json": {
       "model_id": "7cc1ddc3db7540478f5ba0ac843eff1c",
       "version_major": 2,
       "version_minor": 0
      },
      "text/plain": [
       "HBox(children=(FloatProgress(value=0.0, max=1000.0), HTML(value='')))"
      ]
     },
     "metadata": {},
     "output_type": "display_data"
    },
    {
     "name": "stdout",
     "output_type": "stream",
     "text": [
      "\n"
     ]
    },
    {
     "data": {
      "image/png": "[encoded data removed]",
      "text/plain": [
       "<Figure size 432x288 with 1 Axes>"
      ]
     },
     "metadata": {
      "needs_background": "light"
     },
     "output_type": "display_data"
    },
    {
     "name": "stdout",
     "output_type": "stream",
     "text": [
      "--------------------------------------8 : Result--------------------------------------\n",
      "PD: 0.7692307692307693\n",
      "PF: 0.3157894736842105\n",
      "G measure: 0.7242339832869081\n",
      "FIR: 0.35000000000000003\n",
      "              precision    recall  f1-score   support\n",
      "\n",
      "       False      0.812     0.684     0.743        19\n",
      "        True      0.625     0.769     0.690        13\n",
      "\n",
      "    accuracy                          0.719        32\n",
      "   macro avg      0.719     0.727     0.716        32\n",
      "weighted avg      0.736     0.719     0.721        32\n",
      "\n",
      "[[13  6]\n",
      " [ 3 10]]\n",
      "<Initilialize Poplulation>"
     ]
    },
    {
     "data": {
      "application/vnd.jupyter.widget-view+json": {
       "model_id": "eee07b25eeeb4647b73d9f40c3846572",
       "version_major": 2,
       "version_minor": 0
      },
      "text/plain": [
       "HBox(children=(FloatProgress(value=0.0), HTML(value='')))"
      ]
     },
     "metadata": {},
     "output_type": "display_data"
    },
    {
     "name": "stdout",
     "output_type": "stream",
     "text": [
      "\n",
      "<Evolution>\n"
     ]
    },
    {
     "data": {
      "application/vnd.jupyter.widget-view+json": {
       "model_id": "c099fcda887243d8b41256955fb93360",
       "version_major": 2,
       "version_minor": 0
      },
      "text/plain": [
       "HBox(children=(FloatProgress(value=0.0, max=1000.0), HTML(value='')))"
      ]
     },
     "metadata": {},
     "output_type": "display_data"
    },
    {
     "name": "stdout",
     "output_type": "stream",
     "text": [
      "\n"
     ]
    },
    {
     "data": {
      "image/png": "[encoded data removed]",
      "text/plain": [
       "<Figure size 432x288 with 1 Axes>"
      ]
     },
     "metadata": {
      "needs_background": "light"
     },
     "output_type": "display_data"
    },
    {
     "name": "stdout",
     "output_type": "stream",
     "text": [
      "--------------------------------------9 : Result--------------------------------------\n",
      "PD: 0.8333333333333334\n",
      "PF: 0.4\n",
      "G measure: 0.6976744186046512\n",
      "FIR: 0.325\n",
      "              precision    recall  f1-score   support\n",
      "\n",
      "       False      0.857     0.600     0.706        20\n",
      "        True      0.556     0.833     0.667        12\n",
      "\n",
      "    accuracy                          0.688        32\n",
      "   macro avg      0.706     0.717     0.686        32\n",
      "weighted avg      0.744     0.688     0.691        32\n",
      "\n",
      "[[12  8]\n",
      " [ 2 10]]\n",
      "\n",
      "--------------------------------------average--------------------------------------\n",
      "PD : 0.7602564102564102\n",
      "PF : 0.3018421052631579\n",
      "G_measure : 0.7194414702872522\n",
      "FIR : 0.3623629695220604\n"
     ]
    }
   ],
   "source": [
    "for train_index, test_index in notebook.tqdm(kf.split(X,y)): \n",
    "    X_train, X_test = X[train_index], X[test_index]\n",
    "    y_train, y_test = y[train_index], y[test_index]\n",
    "    \n",
    "    pred= weighted_GA_DT(X_train=X_train,\n",
    "                          X_test=X_test,\n",
    "                          y_train=y_train,\n",
    "                          y_test=y_test)\n",
    "    \n",
    "    pd,pf,g_measure,FIR = score(y_test, pred)  \n",
    "    \n",
    "    pd_score.append(pd)\n",
    "    pf_score.append(pf)\n",
    "    g_measure_score.append(g_measure)\n",
    "    fir_score.append(FIR)\n",
    "    \n",
    "    print('--------------------------------------{} : Result--------------------------------------'.format(i))\n",
    "    print('PD: {}\\nPF: {}\\nG measure: {}\\nFIR: {}'.format(pd,pf,g_measure,FIR))\n",
    "    i=i+1\n",
    "    \n",
    "    conf_matrix = confusion_matrix(y_test, pred)\n",
    "    conf_matrix_list_of_arrays.append(conf_matrix)\n",
    "    roc_auc = roc_auc_score(y_test, pred)\n",
    "    roc_auc_score_list_of_arrays.append(roc_auc)\n",
    "    mcc = matthews_corrcoef(y_test, pred)\n",
    "    mcc_list_of_arrays.append(mcc)\n",
    "    cv_cm = confusion_matrix(y_test, pred)\n",
    "    # sum the cv per fold\n",
    "    print(classification_report(y_test, pred, digits=3))\n",
    "    print(cv_cm)\n",
    "\n",
    "print('--------------------------------------average--------------------------------------')\n",
    "print(\"PD : {}\".format(sum(pd_score)/len(pd_score)))\n",
    "print(\"PF : {}\".format(sum(pf_score)/len(pf_score)))\n",
    "print(\"G_measure : {}\".format(sum(g_measure_score)/len(g_measure_score)))\n",
    "print(\"FIR : {}\".format(sum(fir_score)/len(fir_score)))"
   ]
  },
  {
   "cell_type": "code",
   "execution_count": null,
   "metadata": {},
   "outputs": [],
   "source": []
  }
 ],
 "metadata": {
  "kernelspec": {
   "display_name": "Python 3",
   "language": "python",
   "name": "python3"
  },
  "language_info": {
   "codemirror_mode": {
    "name": "ipython",
    "version": 3
   },
   "file_extension": ".py",
   "mimetype": "text/x-python",
   "name": "python",
   "nbconvert_exporter": "python",
   "pygments_lexer": "ipython3",
   "version": "3.7.7"
  }
 },
 "nbformat": 4,
 "nbformat_minor": 4
}
